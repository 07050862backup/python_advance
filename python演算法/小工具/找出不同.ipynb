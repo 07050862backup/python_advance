{
  "nbformat": 4,
  "nbformat_minor": 0,
  "metadata": {
    "colab": {
      "provenance": []
    },
    "kernelspec": {
      "name": "python3",
      "display_name": "Python 3"
    }
  },
  "cells": [
    {
      "cell_type": "code",
      "source": [
        "db = [\n",
        "\"Bonded\",\n",
        "\"Pallet_No\",\n",
        "\"Valid_Date\",\n",
        "\"Status\",\n",
        "\"L3_FileName\",\n",
        "\"Invoice_No\",\n",
        "\"Invoice_Item_No\",\n",
        "\"GE_D8_Invoice_No\",\n",
        "\"GE_D8_Invoice_Item_No\",\n",
        "\"Remark\",\n",
        "\"Confirm\",\n",
        "\"Confirmer\",\n",
        "\"Confirm_Date\",\n",
        "\"Creator\",\n",
        "\"Create_Time\",\n",
        "\"Modifier\",\n",
        "\"Modify_Time\",\n",
        "\n",
        "\n",
        "]\n",
        "excel = [\n",
        "\"Bonded\",\n",
        "\"Pallet_No\",\n",
        "\"Valid_Date\",\n",
        "\"Status\",\n",
        "\"L3_FileName\",\n",
        "\"Invoice_No\",\n",
        "\"Invoice_Item_No\",\n",
        "\"GE_D8_Invoice_No\",\n",
        "\"GE_D8_Invoice_Item_No\",\n",
        "\"Remark\",\n",
        "\"Confirm\",\n",
        "\"Confirmer\",\n",
        "\"Confirm_Date\",\n",
        "\"Creator\",\n",
        "\"Create_Time\",\n",
        "\"Modifier\",\n",
        "\n",
        "\n",
        "\n",
        "\n",
        "]\n",
        "set_db = set(db)\n",
        "set_excel = set(excel)\n",
        "\n",
        "if(  (len(set_db)!=len(db)) or (len(set_excel)!=len(excel)) ):#檢查單一陣列是否有重複的字串 ex:[a,b,c,a,d] a重複\n",
        "    if (len(set_db)!=len(db)):\n",
        "      print(\"db 有重複，重複項目為:\")\n",
        "      visited = set()\n",
        "      dup = {x for x in db if x in visited or (visited.add(x) or False)}\n",
        "      print(dup)\n",
        "    if (len(set_excel)!=len(excel)):\n",
        "      print(\"excel 有重複，重複項目為:\")\n",
        "      visited = set()\n",
        "      dup = {x for x in excel if x in visited or (visited.add(x) or False)}\n",
        "      print(dup)\n",
        "else: #確認無重複的字串 開始檢查兩串列有無重複\n",
        "    Sortlist = list(set(set_db&set_excel))\n",
        "    Sortlist.sort(key = db.index) #運用索引排序\n",
        "    \n",
        "    print('都有的: {}， 共{} 項'.format(Sortlist,len(Sortlist)))\n",
        "    \n",
        "    Sortlist = list(set((set_excel | set_db) - set_db))\n",
        "    Sortlist.sort(key = excel.index) \n",
        "    print('db沒有，但excel有: {}， 共{} 項'.format(Sortlist,len(Sortlist)))\n",
        "    \n",
        "    Sortlist = list(set((set_excel | set_db) - set_excel))\n",
        "    Sortlist.sort(key = db.index)\n",
        "    print('excel沒有，但db有: {}， 共{} 項'.format(Sortlist,len(Sortlist)))\n",
        "\n",
        "\n",
        "\n",
        "\n"
      ],
      "metadata": {
        "colab": {
          "base_uri": "https://localhost:8080/"
        },
        "id": "dUujiVFsHIEB",
        "outputId": "c1623202-9052-425b-e2f5-727f720c6058"
      },
      "execution_count": 2,
      "outputs": [
        {
          "output_type": "stream",
          "name": "stdout",
          "text": [
            "都有的: ['Bonded', 'Pallet_No', 'Valid_Date', 'Status', 'L3_FileName', 'Invoice_No', 'Invoice_Item_No', 'GE_D8_Invoice_No', 'GE_D8_Invoice_Item_No', 'Remark', 'Confirm', 'Confirmer', 'Confirm_Date', 'Creator', 'Create_Time', 'Modifier']， 共16 項\n",
            "db沒有，但excel有: []， 共0 項\n",
            "excel沒有，但db有: ['Modify_Time']， 共1 項\n"
          ]
        }
      ]
    }
  ]
}